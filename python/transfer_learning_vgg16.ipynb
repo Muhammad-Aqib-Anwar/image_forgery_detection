{
  "nbformat": 4,
  "nbformat_minor": 0,
  "metadata": {
    "colab": {
      "provenance": []
    },
    "kernelspec": {
      "name": "python3",
      "display_name": "Python 3"
    },
    "accelerator": "GPU"
  },
  "cells": [
    {
      "cell_type": "code",
      "metadata": {
        "id": "tIOH31Ab6_Dr",
        "colab": {
          "base_uri": "https://localhost:8080/",
          "height": 124
        },
        "outputId": "6bc167d8-15fb-43a0-bda7-f00c317fd9b0"
      },
      "source": [
        "from google.colab import drive\n",
        "drive.mount('/content/drive')"
      ],
      "execution_count": null,
      "outputs": [
        {
          "output_type": "stream",
          "text": [
            "Go to this URL in a browser: https://accounts.google.com/o/oauth2/auth?client_id=947318989803-6bn6qk8qdgf4n4g3pfee6491hc0brc4i.apps.googleusercontent.com&redirect_uri=urn%3aietf%3awg%3aoauth%3a2.0%3aoob&response_type=code&scope=email%20https%3a%2f%2fwww.googleapis.com%2fauth%2fdocs.test%20https%3a%2f%2fwww.googleapis.com%2fauth%2fdrive%20https%3a%2f%2fwww.googleapis.com%2fauth%2fdrive.photos.readonly%20https%3a%2f%2fwww.googleapis.com%2fauth%2fpeopleapi.readonly\n",
            "\n",
            "Enter your authorization code:\n",
            "··········\n",
            "Mounted at /content/drive\n"
          ],
          "name": "stdout"
        }
      ]
    },
    {
      "cell_type": "code",
      "metadata": {
        "id": "YNsvqaPP7O2d",
        "colab": {
          "base_uri": "https://localhost:8080/",
          "height": 34
        },
        "outputId": "d15ec1ed-b7c8-43ad-9df5-174f31a50965"
      },
      "source": [
        "import pandas as pd\n",
        "import IPython.display as display\n",
        "import tensorflow as tf\n",
        "from tensorflow.keras import layers\n",
        "import numpy as np\n",
        "import os,random\n",
        "import matplotlib.pyplot as plt\n",
        "import cv2 as cv\n",
        "import skimage.color\n",
        "import pdb\n",
        "print(tf.__version__)"
      ],
      "execution_count": null,
      "outputs": [
        {
          "output_type": "stream",
          "text": [
            "2.2.0\n"
          ],
          "name": "stdout"
        }
      ]
    },
    {
      "cell_type": "code",
      "metadata": {
        "id": "ukESgk1KEzhb"
      },
      "source": [
        "IMAGE_HEIGHT=128\n",
        "IMAGE_WIDTH=128\n",
        "BATCH_SIZE=4\n",
        "def get_pathframe(path):\n",
        "  '''\n",
        "  Get all the images paths and its corresponding labels\n",
        "  Store them in pandas dataframe\n",
        "  '''\n",
        "  filenames = os.listdir(path)\n",
        "  categories = []\n",
        "  paths=[]\n",
        "  for filename in filenames:\n",
        "    paths.append(path+filename)\n",
        "    category = filename.split('_')[0]\n",
        "    #print(category)\n",
        "    if category == 'AU': #Au\n",
        "\n",
        "      categories.append(1)\n",
        "    else:\n",
        "      #pdb.set_trace()\n",
        "      categories.append(0)\n",
        "\n",
        "  df= pd.DataFrame({\n",
        "      'filename': filenames,\n",
        "      'category': categories,\n",
        "      'paths':paths\n",
        "  })\n",
        "  return df"
      ],
      "execution_count": null,
      "outputs": []
    },
    {
      "cell_type": "code",
      "metadata": {
        "id": "D1JmRqfpF6dl",
        "colab": {
          "base_uri": "https://localhost:8080/",
          "height": 34
        },
        "outputId": "f80e66e7-f474-4101-f548-b1fc3b478e53"
      },
      "source": [
        "df=get_pathframe(\"/content/drive/My Drive/DVMM/Au-S/\")\n",
        "df.tail(1000)\n",
        "len(df.category)\n",
        "#(df.category==0).sum()"
      ],
      "execution_count": null,
      "outputs": [
        {
          "output_type": "execute_result",
          "data": {
            "text/plain": [
              "1845"
            ]
          },
          "metadata": {
            "tags": []
          },
          "execution_count": 33
        }
      ]
    },
    {
      "cell_type": "code",
      "metadata": {
        "id": "Zk-YYuHZGsKk"
      },
      "source": [
        "def load_and_preprocess_image(path):\n",
        "  '''\n",
        "  Load each image and resize it to desired shape\n",
        "  '''\n",
        "  image = tf.io.read_file(path)\n",
        "  image = tf.image.decode_bmp(image, channels=0)\n",
        "  #image = tf.image.decode_jpeg(image, channels=3)\n",
        "  image = tf.image.resize(image, [IMAGE_WIDTH, IMAGE_HEIGHT])\n",
        "\n",
        "  image = tf.image.grayscale_to_rgb(image)\n",
        "  image /= 255.0  # normalize to [0,1] range\n",
        "  return image\n",
        "\n",
        "def convert_to_tensor(df):\n",
        "  '''\n",
        "  Convert each data and labels to tensor\n",
        "  '''\n",
        "  path_ds = tf.data.Dataset.from_tensor_slices(df['paths'])\n",
        "  image_ds = path_ds.map(load_and_preprocess_image)\n",
        "  # onehot_label=tf.one_hot(tf.cast(df['category'], tf.int64),2) if using softmax\n",
        "  onehot_label=tf.cast(df['category'], tf.int64)\n",
        "  label_ds = tf.data.Dataset.from_tensor_slices(onehot_label)\n",
        "\n",
        "\n",
        "  return image_ds,label_ds\n"
      ],
      "execution_count": null,
      "outputs": []
    },
    {
      "cell_type": "code",
      "metadata": {
        "id": "3aYJrAktG3Ht",
        "colab": {
          "base_uri": "https://localhost:8080/",
          "height": 52
        },
        "outputId": "43f7518d-c51e-4f4e-b937-8a97f1da8adf"
      },
      "source": [
        "X,Y=convert_to_tensor(df)\n",
        "print(\"Shape of X in data:\", X)\n",
        "print(\"Shape of Y in data:\", Y)\n"
      ],
      "execution_count": null,
      "outputs": [
        {
          "output_type": "stream",
          "text": [
            "Shape of X in data: <MapDataset shapes: (128, 128, 3), types: tf.float32>\n",
            "Shape of Y in data: <TensorSliceDataset shapes: (), types: tf.int64>\n"
          ],
          "name": "stdout"
        }
      ]
    },
    {
      "cell_type": "code",
      "metadata": {
        "id": "8q7PhC4ZG8LM",
        "colab": {
          "base_uri": "https://localhost:8080/",
          "height": 69
        },
        "outputId": "c7f942d1-a76a-42fa-80d4-d9b1d61629ef"
      },
      "source": [
        "dataset=tf.data.Dataset.zip((X,Y)).shuffle(buffer_size=1845)\n",
        "#dataset_train=dataset.take(1845)\n",
        "#dataset_test=dataset.skip(1476)\n",
        "DATASET_SIZE=1845\n",
        "\n",
        "train_size = int(0.8 * DATASET_SIZE)\n",
        "test_size = int(0.2 * DATASET_SIZE)\n",
        "\n",
        "dataset_train = dataset.take(train_size)\n",
        "dataset_test = dataset.skip(train_size)\n",
        "dataset_test = dataset_test.take(test_size)\n",
        "\n",
        "dataset_train=dataset_train.batch(BATCH_SIZE, drop_remainder=True)\n",
        "dataset_test=dataset_test.batch(BATCH_SIZE, drop_remainder=True)\n",
        "print(dataset_train)\n",
        "dataset.element_spec\n"
      ],
      "execution_count": null,
      "outputs": [
        {
          "output_type": "stream",
          "text": [
            "<BatchDataset shapes: ((4, 128, 128, 3), (4,)), types: (tf.float32, tf.int64)>\n"
          ],
          "name": "stdout"
        },
        {
          "output_type": "execute_result",
          "data": {
            "text/plain": [
              "(TensorSpec(shape=(128, 128, 3), dtype=tf.float32, name=None),\n",
              " TensorSpec(shape=(), dtype=tf.int64, name=None))"
            ]
          },
          "metadata": {
            "tags": []
          },
          "execution_count": 71
        }
      ]
    },
    {
      "cell_type": "code",
      "metadata": {
        "id": "8Hf6aEISG_Ue"
      },
      "source": [
        "def plotimages(imagesls):\n",
        "  fig, axes = plt.subplots(1, 5, figsize=(20,20))\n",
        "  axes = axes.flatten()\n",
        "  for image,ax in zip(imagesls, axes):\n",
        "    ax.imshow(image)\n",
        "    ax.axis('off')\n",
        "\n",
        "imagesls=[]\n",
        "for n, image in enumerate(X.take(5)):\n",
        "  imagesls.append(image)\n",
        "\n",
        "plotimages(imagesls)"
      ],
      "execution_count": null,
      "outputs": []
    },
    {
      "cell_type": "markdown",
      "metadata": {
        "id": "lueieTV-HI_w"
      },
      "source": [
        "**Transfer learning **"
      ]
    },
    {
      "cell_type": "code",
      "metadata": {
        "id": "uT9qn8t5HByk",
        "colab": {
          "base_uri": "https://localhost:8080/",
          "height": 955
        },
        "outputId": "6ebef1a5-5d85-41f4-f5db-765fbb9580ef"
      },
      "source": [
        "from tensorflow.keras.applications import VGG16\n",
        "\n",
        "pre_trained_model = VGG16(input_shape=(IMAGE_WIDTH,IMAGE_HEIGHT,3), include_top=False, weights=\"imagenet\")\n",
        "\n",
        "for layer in pre_trained_model.layers[:15]:\n",
        "    layer.trainable = False\n",
        "\n",
        "for layer in pre_trained_model.layers[15:]:\n",
        "    layer.trainable = True\n",
        "\n",
        "last_layer = pre_trained_model.get_layer('block5_pool')\n",
        "last_output = last_layer.output\n",
        "x = layers.Flatten()(last_output)\n",
        "x = layers.Dense(512, activation='relu')(x)\n",
        "x = layers.Dropout(0.5)(x)\n",
        "x = layers.Dense(1, activation='softmax')(x)\n",
        "\n",
        "vggmodel = tf.keras.models.Model(pre_trained_model.input, x)\n",
        "\n",
        "vggmodel.compile(loss='binary_crossentropy',\n",
        "              optimizer=tf.keras.optimizers.SGD(lr=1e-4, momentum=0.9),\n",
        "              metrics=['accuracy'])\n",
        "\n",
        "vggmodel.summary()"
      ],
      "execution_count": null,
      "outputs": [
        {
          "output_type": "stream",
          "text": [
            "Model: \"model_4\"\n",
            "_________________________________________________________________\n",
            "Layer (type)                 Output Shape              Param #   \n",
            "=================================================================\n",
            "input_5 (InputLayer)         [(None, 128, 128, 3)]     0         \n",
            "_________________________________________________________________\n",
            "block1_conv1 (Conv2D)        (None, 128, 128, 64)      1792      \n",
            "_________________________________________________________________\n",
            "block1_conv2 (Conv2D)        (None, 128, 128, 64)      36928     \n",
            "_________________________________________________________________\n",
            "block1_pool (MaxPooling2D)   (None, 64, 64, 64)        0         \n",
            "_________________________________________________________________\n",
            "block2_conv1 (Conv2D)        (None, 64, 64, 128)       73856     \n",
            "_________________________________________________________________\n",
            "block2_conv2 (Conv2D)        (None, 64, 64, 128)       147584    \n",
            "_________________________________________________________________\n",
            "block2_pool (MaxPooling2D)   (None, 32, 32, 128)       0         \n",
            "_________________________________________________________________\n",
            "block3_conv1 (Conv2D)        (None, 32, 32, 256)       295168    \n",
            "_________________________________________________________________\n",
            "block3_conv2 (Conv2D)        (None, 32, 32, 256)       590080    \n",
            "_________________________________________________________________\n",
            "block3_conv3 (Conv2D)        (None, 32, 32, 256)       590080    \n",
            "_________________________________________________________________\n",
            "block3_pool (MaxPooling2D)   (None, 16, 16, 256)       0         \n",
            "_________________________________________________________________\n",
            "block4_conv1 (Conv2D)        (None, 16, 16, 512)       1180160   \n",
            "_________________________________________________________________\n",
            "block4_conv2 (Conv2D)        (None, 16, 16, 512)       2359808   \n",
            "_________________________________________________________________\n",
            "block4_conv3 (Conv2D)        (None, 16, 16, 512)       2359808   \n",
            "_________________________________________________________________\n",
            "block4_pool (MaxPooling2D)   (None, 8, 8, 512)         0         \n",
            "_________________________________________________________________\n",
            "block5_conv1 (Conv2D)        (None, 8, 8, 512)         2359808   \n",
            "_________________________________________________________________\n",
            "block5_conv2 (Conv2D)        (None, 8, 8, 512)         2359808   \n",
            "_________________________________________________________________\n",
            "block5_conv3 (Conv2D)        (None, 8, 8, 512)         2359808   \n",
            "_________________________________________________________________\n",
            "block5_pool (MaxPooling2D)   (None, 4, 4, 512)         0         \n",
            "_________________________________________________________________\n",
            "flatten_4 (Flatten)          (None, 8192)              0         \n",
            "_________________________________________________________________\n",
            "dense_8 (Dense)              (None, 512)               4194816   \n",
            "_________________________________________________________________\n",
            "dropout_4 (Dropout)          (None, 512)               0         \n",
            "_________________________________________________________________\n",
            "dense_9 (Dense)              (None, 1)                 513       \n",
            "=================================================================\n",
            "Total params: 18,910,017\n",
            "Trainable params: 11,274,753\n",
            "Non-trainable params: 7,635,264\n",
            "_________________________________________________________________\n"
          ],
          "name": "stdout"
        }
      ]
    },
    {
      "cell_type": "code",
      "metadata": {
        "id": "rUEtqaLwHRm7",
        "colab": {
          "base_uri": "https://localhost:8080/",
          "height": 712
        },
        "outputId": "87670482-5ba3-4f6c-bc0d-406ddf74629a"
      },
      "source": [
        "vgghist=vggmodel.fit_generator(dataset_train,epochs=20,validation_data=dataset_test)"
      ],
      "execution_count": null,
      "outputs": [
        {
          "output_type": "stream",
          "text": [
            "Epoch 1/20\n",
            "369/369 [==============================] - 7s 20ms/step - loss: 0.6944 - accuracy: 0.5874 - val_loss: 0.5953 - val_accuracy: 0.6848\n",
            "Epoch 2/20\n",
            "369/369 [==============================] - 7s 20ms/step - loss: 0.6061 - accuracy: 0.6707 - val_loss: 0.5034 - val_accuracy: 0.7853\n",
            "Epoch 3/20\n",
            "369/369 [==============================] - 7s 20ms/step - loss: 0.5269 - accuracy: 0.7405 - val_loss: 0.4586 - val_accuracy: 0.8016\n",
            "Epoch 4/20\n",
            "369/369 [==============================] - 7s 20ms/step - loss: 0.4769 - accuracy: 0.7696 - val_loss: 0.4004 - val_accuracy: 0.8071\n",
            "Epoch 5/20\n",
            "369/369 [==============================] - 7s 20ms/step - loss: 0.4483 - accuracy: 0.7832 - val_loss: 0.3576 - val_accuracy: 0.8424\n",
            "Epoch 6/20\n",
            "369/369 [==============================] - 7s 20ms/step - loss: 0.3962 - accuracy: 0.8272 - val_loss: 0.3873 - val_accuracy: 0.8152\n",
            "Epoch 7/20\n",
            "369/369 [==============================] - 7s 19ms/step - loss: 0.3657 - accuracy: 0.8415 - val_loss: 0.3119 - val_accuracy: 0.8560\n",
            "Epoch 8/20\n",
            "369/369 [==============================] - 7s 20ms/step - loss: 0.3422 - accuracy: 0.8428 - val_loss: 0.3446 - val_accuracy: 0.8207\n",
            "Epoch 9/20\n",
            "369/369 [==============================] - 7s 19ms/step - loss: 0.2977 - accuracy: 0.8767 - val_loss: 0.2266 - val_accuracy: 0.9158\n",
            "Epoch 10/20\n",
            "369/369 [==============================] - 7s 20ms/step - loss: 0.2669 - accuracy: 0.8923 - val_loss: 0.2042 - val_accuracy: 0.9293\n",
            "Epoch 11/20\n",
            "369/369 [==============================] - 7s 20ms/step - loss: 0.2691 - accuracy: 0.8869 - val_loss: 0.2175 - val_accuracy: 0.9158\n",
            "Epoch 12/20\n",
            "369/369 [==============================] - 7s 20ms/step - loss: 0.2258 - accuracy: 0.9065 - val_loss: 0.1769 - val_accuracy: 0.9321\n",
            "Epoch 13/20\n",
            "369/369 [==============================] - 7s 20ms/step - loss: 0.1981 - accuracy: 0.9194 - val_loss: 0.2552 - val_accuracy: 0.8886\n",
            "Epoch 14/20\n",
            "369/369 [==============================] - 7s 19ms/step - loss: 0.2040 - accuracy: 0.9112 - val_loss: 0.1549 - val_accuracy: 0.9457\n",
            "Epoch 15/20\n",
            "369/369 [==============================] - 7s 19ms/step - loss: 0.1695 - accuracy: 0.9343 - val_loss: 0.1422 - val_accuracy: 0.9484\n",
            "Epoch 16/20\n",
            "369/369 [==============================] - 7s 20ms/step - loss: 0.1619 - accuracy: 0.9350 - val_loss: 0.1465 - val_accuracy: 0.9511\n",
            "Epoch 17/20\n",
            "369/369 [==============================] - 7s 20ms/step - loss: 0.1478 - accuracy: 0.9343 - val_loss: 0.0906 - val_accuracy: 0.9783\n",
            "Epoch 18/20\n",
            "369/369 [==============================] - 7s 19ms/step - loss: 0.1285 - accuracy: 0.9492 - val_loss: 0.1195 - val_accuracy: 0.9457\n",
            "Epoch 19/20\n",
            "369/369 [==============================] - 7s 20ms/step - loss: 0.1199 - accuracy: 0.9512 - val_loss: 0.1284 - val_accuracy: 0.9620\n",
            "Epoch 20/20\n",
            "369/369 [==============================] - 8s 21ms/step - loss: 0.1181 - accuracy: 0.9512 - val_loss: 0.1117 - val_accuracy: 0.9565\n"
          ],
          "name": "stdout"
        }
      ]
    },
    {
      "cell_type": "code",
      "metadata": {
        "id": "26gVzywoHUhN"
      },
      "source": [
        "vggmodel.save(\"/content/drive/My Drive/DVMM/vggmodel.h5\")"
      ],
      "execution_count": null,
      "outputs": []
    },
    {
      "cell_type": "code",
      "metadata": {
        "id": "hNWwuGl7vH0X",
        "colab": {
          "base_uri": "https://localhost:8080/",
          "height": 530
        },
        "outputId": "b43b4e25-b1e2-499f-fc29-a5edeeab1f12"
      },
      "source": [
        "import seaborn as sns\n",
        "from sklearn.metrics import confusion_matrix\n",
        "from sklearn.metrics import classification_report\n",
        "# Predict the values from the validation dataset\n",
        "\n",
        "loss, accuracy = vggmodel.evaluate_generator(dataset_test)\n",
        "print(\"Test: accuracy = %f  ;  loss = %f \" % (accuracy, loss))\n",
        "y_pred =  vggmodel.predict_generator(dataset_test)\n",
        "y_p = np.where(y_pred > 0.5, 1,0)\n",
        "test_data=dataset_test.unbatch()\n",
        "y_g=[]\n",
        "for image, label in  test_data:\n",
        "  y_g.append(label.numpy())\n",
        "\n",
        "confusion_mtx = confusion_matrix(y_g, y_p)\n",
        "# plot the confusion matrix\n",
        "f,ax = plt.subplots(figsize=(8, 8))\n",
        "sns.heatmap(confusion_mtx, annot=True, linewidths=0.01,cmap=\"Blues\",linecolor=\"gray\", fmt= '.1f',ax=ax)\n",
        "plt.xlabel(\"Predicted Label\")\n",
        "plt.ylabel(\"True Label\")\n",
        "plt.title(\"Confusion Matrix\")\n",
        "plt.show()"
      ],
      "execution_count": null,
      "outputs": [
        {
          "output_type": "stream",
          "text": [
            "Test: accuracy = 0.970109  ;  loss = 0.092196 \n"
          ],
          "name": "stdout"
        },
        {
          "output_type": "display_data",
          "data": {
            "image/png": "[encoded data removed]",
            "text/plain": [
              "<Figure size 576x576 with 2 Axes>"
            ]
          },
          "metadata": {
            "tags": [],
            "needs_background": "light"
          }
        }
      ]
    },
    {
      "cell_type": "code",
      "metadata": {
        "id": "PdfskOE4QDJ7",
        "colab": {
          "base_uri": "https://localhost:8080/",
          "height": 156
        },
        "outputId": "beaff066-015b-471b-a4fe-12d01d323e17"
      },
      "source": [
        "confusion_mtx = confusion_matrix(y_g, y_p).ravel()\n",
        "tn, fp, fn, tp =confusion_mtx\n",
        "print(\"true positive\",tp)\n",
        "print(\"false positive\",fp)\n",
        "print(\"false negative\",fn)\n",
        "print(\"true negative\",tn)\n",
        "precision= tp / (tp + fp)\n",
        "recall = tp / (tp + fn)\n",
        "accuracy=(tp + tn)/(tp + tn + fp + fn)\n",
        "f_measure = (2 * recall * precision) / (recall + precision)\n",
        "print (\"Accuracy\", accuracy*100)\n",
        "print (\"Precision:\", precision*100)\n",
        "print (\" Recall:\", recall*100)\n",
        "print(\"f_measure :\", f_measure*100);\n"
      ],
      "execution_count": null,
      "outputs": [
        {
          "output_type": "stream",
          "text": [
            "true positive 101\n",
            "false positive 88\n",
            "false negative 94\n",
            "true negative 85\n",
            "Accuracy 50.54347826086957\n",
            "Precision: 53.43915343915344\n",
            " Recall: 51.7948717948718\n",
            "f_measure : 52.60416666666667\n"
          ],
          "name": "stdout"
        }
      ]
    },
    {
      "cell_type": "code",
      "metadata": {
        "id": "uC8rahi_rlKy"
      },
      "source": [
        "def plot_model_history(model_history, acc='accuracy', val_acc='val_accuracy'):\n",
        "    fig, axs = plt.subplots(1,2,figsize=(15,5))\n",
        "    axs[0].plot(range(1,len(model_history.history[acc])+1),model_history.history[acc])\n",
        "    axs[0].plot(range(1,len(model_history.history[val_acc])+1),model_history.history[val_acc])\n",
        "    axs[0].set_title('Model Accuracy')\n",
        "    axs[0].set_ylabel('Accuracy')\n",
        "    axs[0].set_xlabel('Epoch')\n",
        "    axs[0].set_xticks(np.arange(1,len(model_history.history[acc])+1),len(model_history.history[acc])/10)\n",
        "    axs[0].legend(['train', 'val'], loc='best')\n",
        "    axs[1].plot(range(1,len(model_history.history['loss'])+1),model_history.history['loss'])\n",
        "    axs[1].plot(range(1,len(model_history.history['val_loss'])+1),model_history.history['val_loss'])\n",
        "    axs[1].set_title('Model Loss')\n",
        "    axs[1].set_ylabel('Loss')\n",
        "    axs[1].set_xlabel('Epoch')\n",
        "    axs[1].set_xticks(np.arange(1,len(model_history.history['loss'])+1),len(model_history.history['loss'])/10)\n",
        "    axs[1].legend(['train', 'val'], loc='best')\n",
        "    plt.show()\n",
        "\n",
        "#plot_model_history(hist)"
      ],
      "execution_count": null,
      "outputs": []
    },
    {
      "cell_type": "code",
      "metadata": {
        "id": "_fP23f1YHVPS",
        "colab": {
          "base_uri": "https://localhost:8080/",
          "height": 439
        },
        "outputId": "6322613b-ff55-475d-a914-56d84710ba05"
      },
      "source": [
        "plot_model_history(vgghist)"
      ],
      "execution_count": null,
      "outputs": [
        {
          "output_type": "stream",
          "text": [
            "/usr/local/lib/python3.6/dist-packages/ipykernel_launcher.py:8: MatplotlibDeprecationWarning: Passing the minor parameter of set_xticks() positionally is deprecated since Matplotlib 3.2; the parameter will become keyword-only two minor releases later.\n",
            "  \n",
            "/usr/local/lib/python3.6/dist-packages/ipykernel_launcher.py:15: MatplotlibDeprecationWarning: Passing the minor parameter of set_xticks() positionally is deprecated since Matplotlib 3.2; the parameter will become keyword-only two minor releases later.\n",
            "  from ipykernel import kernelapp as app\n"
          ],
          "name": "stderr"
        },
        {
          "output_type": "display_data",
          "data": {
            "image/png": "[encoded data removed]",
            "text/plain": [
              "<Figure size 1080x360 with 2 Axes>"
            ]
          },
          "metadata": {
            "tags": [],
            "needs_background": "light"
          }
        }
      ]
    },
    {
      "cell_type": "code",
      "metadata": {
        "id": "-hshIVHFHYqh",
        "colab": {
          "base_uri": "https://localhost:8080/",
          "height": 34
        },
        "outputId": "d9cbab25-527f-41d0-f760-f2ba467cf23a"
      },
      "source": [
        "loss, accuracy = vggmodel.evaluate_generator(dataset_test)\n",
        "print(\"Test: accuracy = %f  ;  loss = %f \" % (accuracy, loss))"
      ],
      "execution_count": null,
      "outputs": [
        {
          "output_type": "stream",
          "text": [
            "Test: accuracy = 0.978261  ;  loss = 0.080477 \n"
          ],
          "name": "stdout"
        }
      ]
    },
    {
      "cell_type": "code",
      "metadata": {
        "id": "5AAhK4OlHbNV"
      },
      "source": [
        "vgg_y_pred =  vggmodel.predict_generator(dataset_test)\n",
        "vgg_y_p = np.where(vgg_y_pred > 0.5, 1,0)"
      ],
      "execution_count": null,
      "outputs": []
    },
    {
      "cell_type": "code",
      "metadata": {
        "id": "3oyc8D46t-Qp",
        "colab": {
          "base_uri": "https://localhost:8080/",
          "height": 156
        },
        "outputId": "e4861d3a-44a5-483e-afb3-28053b5a427e"
      },
      "source": [
        "from sklearn.metrics import confusion_matrix\n",
        "tn, fp, fn, tp = confusion_matrix(y_g, vgg_y_p).ravel()\n",
        "print(\"true positive\",tp)\n",
        "print(\"false positive\",fp)\n",
        "print(\"false negative\",fn)\n",
        "print(\"true negative\",tn)\n",
        "precision= tp / (tp + fp)\n",
        "recall = tp / (tp + fn)\n",
        "accuracy=(tp + tn)/(tp + tn + fp + fn)\n",
        "f_measure = (2 * recall * precision) / (recall + precision)\n",
        "print (\"Accuracy\", accuracy*100)\n",
        "print (\"Precision:\", precision*100)\n",
        "print (\" Recall:\", recall*100)\n",
        "print('f_measure :', f_measure*100);"
      ],
      "execution_count": null,
      "outputs": [
        {
          "output_type": "stream",
          "text": [
            "true positive 313\n",
            "false positive 71\n",
            "false negative 74\n",
            "true negative 10\n",
            "Accuracy 69.01709401709401\n",
            "Precision: 81.51041666666666\n",
            " Recall: 80.87855297157623\n",
            "f_measure : 81.19325551232166\n"
          ],
          "name": "stdout"
        }
      ]
    },
    {
      "cell_type": "code",
      "metadata": {
        "id": "T8zs0pxCHdoE",
        "colab": {
          "base_uri": "https://localhost:8080/",
          "height": 513
        },
        "outputId": "2375ac04-f8ce-4ef9-89b3-371c100a705a"
      },
      "source": [
        "# compute the confusion matrix\n",
        "confusion_mtx = confusion_matrix(y_g, vgg_y_p)\n",
        "\n",
        "# plot the confusion matrix\n",
        "f,ax = plt.subplots(figsize=(8, 8))\n",
        "sns.heatmap(confusion_mtx, annot=True, linewidths=0.01,cmap=\"Blues\",linecolor=\"gray\", fmt= '.1f',ax=ax)\n",
        "plt.xlabel(\"Predicted Label\")\n",
        "plt.ylabel(\"True Label\")\n",
        "plt.title(\"Confusion Matrix\")\n",
        "plt.show()"
      ],
      "execution_count": null,
      "outputs": [
        {
          "output_type": "display_data",
          "data": {
            "image/png": "[encoded data removed]",
            "text/plain": [
              "<Figure size 576x576 with 2 Axes>"
            ]
          },
          "metadata": {
            "tags": [],
            "needs_background": "light"
          }
        }
      ]
    },
    {
      "cell_type": "code",
      "metadata": {
        "id": "5rtPRlfUHhOe"
      },
      "source": [
        "report = classification_report(y_g, vgg_y_p, target_names=['0','1'])\n",
        "print(report)"
      ],
      "execution_count": null,
      "outputs": []
    }
  ]
}